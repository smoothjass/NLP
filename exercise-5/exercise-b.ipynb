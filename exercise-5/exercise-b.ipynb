{
 "cells": [
  {
   "cell_type": "markdown",
   "source": [
    "### Exercise B.1: Preprocessing\n",
    "1. Merge the corpora and preprocess the data.\n",
    "2. Train a naive Bayes classifier to differentiate between Taylor Swift and Bob Dylan lyrics.\n",
    "3. Analyze the performance of the model on test data using the confusion matrix.\n",
    "Hints:\n",
    "• The Python package ’sklearn.model_selection’ provides the ’train_test_split’ function.\n",
    "• The Python package ’sklearn.naive_bayes’ provides the ’MultinomialNB’ function.\n",
    "• The Python package ’sklearn.metrics’ provides the ’confusion_matrix’ function."
   ],
   "metadata": {
    "collapsed": false
   },
   "id": "44e67f86e74fa4a6"
  },
  {
   "cell_type": "code",
   "execution_count": 14,
   "outputs": [],
   "source": [
    "import pandas as pd\n",
    "from sklearn.feature_extraction.text import CountVectorizer\n",
    "from sklearn.feature_extraction.text import TfidfVectorizer\n",
    "from sklearn.model_selection import train_test_split\n",
    "from sklearn.naive_bayes import MultinomialNB\n",
    "from sklearn.metrics import confusion_matrix, accuracy_score, f1_score"
   ],
   "metadata": {
    "collapsed": false,
    "ExecuteTime": {
     "end_time": "2023-11-02T14:51:01.107419200Z",
     "start_time": "2023-11-02T14:51:00.875688Z"
    }
   },
   "id": "8118f959ec5e9c10"
  },
  {
   "cell_type": "code",
   "execution_count": 15,
   "outputs": [],
   "source": [
    "# read swift\n",
    "file = open(\"taylor-swift.txt\", \"r\", encoding=\"utf8\")\n",
    "swift = file.readlines()\n",
    "file.close()\n",
    "\n",
    "# read dylan\n",
    "file = open(\"bob-dylan.txt\", \"r\", encoding=\"utf8\")\n",
    "dylan = file.readlines()\n",
    "file.close()"
   ],
   "metadata": {
    "collapsed": false,
    "ExecuteTime": {
     "end_time": "2023-11-02T14:51:01.109489300Z",
     "start_time": "2023-11-02T14:51:00.904091Z"
    }
   },
   "id": "a3ebe3160266706"
  },
  {
   "cell_type": "code",
   "execution_count": 16,
   "outputs": [],
   "source": [
    "# add labels and merge\n",
    "dylan_labels = [1] * len(dylan)\n",
    "swift_labels = [0] * len(swift)\n",
    "\n",
    "dict = {'lyrics': dylan, 'is_dylan': dylan_labels}\n",
    "df = pd.DataFrame(dict)\n",
    "\n",
    "dict = {'lyrics': swift, 'is_dylan': swift_labels}\n",
    "df = pd.concat([df, pd.DataFrame(dict)], ignore_index=True)"
   ],
   "metadata": {
    "collapsed": false,
    "ExecuteTime": {
     "end_time": "2023-11-02T14:51:01.109489300Z",
     "start_time": "2023-11-02T14:51:00.926492800Z"
    }
   },
   "id": "d51aa327d50561ab"
  },
  {
   "cell_type": "code",
   "execution_count": 17,
   "outputs": [],
   "source": [
    "# little bit of cleanup\n",
    "del dict, dylan, dylan_labels, swift, swift_labels, file"
   ],
   "metadata": {
    "collapsed": false,
    "ExecuteTime": {
     "end_time": "2023-11-02T14:51:01.109489300Z",
     "start_time": "2023-11-02T14:51:00.946955900Z"
    }
   },
   "id": "f381c795c0f8c995"
  },
  {
   "cell_type": "code",
   "execution_count": 18,
   "outputs": [],
   "source": [
    "X = df['lyrics'].to_numpy()\n",
    "y = df['is_dylan'].to_numpy()"
   ],
   "metadata": {
    "collapsed": false,
    "ExecuteTime": {
     "end_time": "2023-11-02T14:51:01.109489300Z",
     "start_time": "2023-11-02T14:51:00.967212500Z"
    }
   },
   "id": "e767af0dcf598f59"
  },
  {
   "cell_type": "code",
   "execution_count": 19,
   "outputs": [],
   "source": [
    "# pre-processing\n",
    "# feature extraction\n",
    "# vectorizer does tokenization, data already lowercased\n",
    "# https://scikit-learn.org/stable/modules/feature_extraction.html\n",
    "# https://scikit-learn.org/stable/modules/generated/sklearn.feature_extraction.text.CountVectorizer.html#sklearn.feature_extraction.text.CountVectorizer\n",
    "# Bag of words\n",
    "vectorizer = CountVectorizer(analyzer='word', ngram_range=(1, 1))\n",
    "X_BOW = vectorizer.fit_transform(X)"
   ],
   "metadata": {
    "collapsed": false,
    "ExecuteTime": {
     "end_time": "2023-11-02T14:51:01.158396Z",
     "start_time": "2023-11-02T14:51:00.987484700Z"
    }
   },
   "id": "21dc60f89ebcf3e9"
  },
  {
   "cell_type": "code",
   "execution_count": 20,
   "outputs": [],
   "source": [
    "# train test split\n",
    "X_train, X_test, y_train, y_test = train_test_split(X_BOW, y)"
   ],
   "metadata": {
    "collapsed": false,
    "ExecuteTime": {
     "end_time": "2023-11-02T14:51:01.184049600Z",
     "start_time": "2023-11-02T14:51:01.150351500Z"
    }
   },
   "id": "4b81cca2b2a9e52d"
  },
  {
   "cell_type": "code",
   "execution_count": 21,
   "outputs": [],
   "source": [
    "# train\n",
    "# https://scikit-learn.org/stable/modules/generated/sklearn.naive_bayes.MultinomialNB.html#sklearn.naive_bayes.MultinomialNB\n",
    "clf = MultinomialNB()\n",
    "clf.fit(X_train, y_train)\n",
    "# predict\n",
    "y_hat = clf.predict(X_test)"
   ],
   "metadata": {
    "collapsed": false,
    "ExecuteTime": {
     "end_time": "2023-11-02T14:51:01.184049600Z",
     "start_time": "2023-11-02T14:51:01.168406500Z"
    }
   },
   "id": "b4272b6da9094072"
  },
  {
   "cell_type": "code",
   "execution_count": 22,
   "outputs": [
    {
     "name": "stdout",
     "output_type": "stream",
     "text": [
      "40 7 4 90 0.9219858156028369 0.9424083769633509\n"
     ]
    }
   ],
   "source": [
    "# evaluate\n",
    "# https://scikit-learn.org/stable/modules/generated/sklearn.metrics.confusion_matrix.html\n",
    "# https://scikit-learn.org/stable/modules/generated/sklearn.metrics.accuracy_score.html#sklearn.metrics.accuracy_score\n",
    "# https://scikit-learn.org/stable/modules/generated/sklearn.metrics.f1_score.html#sklearn.metrics.f1_score\n",
    "tn, fp, fn, tp = confusion_matrix(y_test, y_hat).ravel()\n",
    "accuracy = accuracy_score(y_test, y_hat)\n",
    "f1 = f1_score(y_test, y_hat, zero_division=1.0)\n",
    "print(tn, fp, fn, tp, accuracy, f1)"
   ],
   "metadata": {
    "collapsed": false,
    "ExecuteTime": {
     "end_time": "2023-11-02T14:51:01.246589700Z",
     "start_time": "2023-11-02T14:51:01.184049600Z"
    }
   },
   "id": "72e01515ee5037fb"
  },
  {
   "cell_type": "code",
   "execution_count": 23,
   "outputs": [
    {
     "name": "stdout",
     "output_type": "stream",
     "text": [
      "0 41 0 100 0.7092198581560284 0.8298755186721991\n"
     ]
    }
   ],
   "source": [
    "# trying to encode the documents using TFIDF instead of words\n",
    "# https://scikit-learn.org/stable/modules/generated/sklearn.feature_extraction.text.TfidfTransformer.html#sklearn.feature_extraction.text.TfidfTransformer\n",
    "# encode\n",
    "vectorizer = TfidfVectorizer()\n",
    "X_TFIDF = vectorizer.fit_transform(X)\n",
    "# split\n",
    "X_train, X_test, y_train, y_test = train_test_split(X_TFIDF, y)\n",
    "# train\n",
    "clf = MultinomialNB()\n",
    "clf.fit(X_train, y_train)\n",
    "# predict\n",
    "y_hat = clf.predict(X_test)\n",
    "# evaluate\n",
    "tn, fp, fn, tp = confusion_matrix(y_test, y_hat).ravel()\n",
    "accuracy = accuracy_score(y_test, y_hat)\n",
    "f1 = f1_score(y_test, y_hat, zero_division=1.0)\n",
    "# got a bit worse\n",
    "print(tn, fp, fn, tp, accuracy, f1)"
   ],
   "metadata": {
    "collapsed": false,
    "ExecuteTime": {
     "end_time": "2023-11-02T14:51:01.384316600Z",
     "start_time": "2023-11-02T14:51:01.199680500Z"
    }
   },
   "id": "43318b005c74f64e"
  },
  {
   "cell_type": "code",
   "execution_count": 24,
   "outputs": [
    {
     "name": "stdout",
     "output_type": "stream",
     "text": [
      "35 5 14 87 0.8652482269503546 0.9015544041450778\n"
     ]
    }
   ],
   "source": [
    "# try removing stopwords, train, evaluate again\n",
    "# encode\n",
    "vectorizer = CountVectorizer(analyzer='word', ngram_range=(1, 1), stop_words='english')\n",
    "X_BOW = vectorizer.fit_transform(X)\n",
    "# split\n",
    "X_train, X_test, y_train, y_test = train_test_split(X_BOW, y)\n",
    "# train\n",
    "clf = MultinomialNB()\n",
    "clf.fit(X_train, y_train)\n",
    "# predict\n",
    "y_hat = clf.predict(X_test)\n",
    "# evaluate\n",
    "tn, fp, fn, tp = confusion_matrix(y_test, y_hat).ravel()\n",
    "accuracy = accuracy_score(y_test, y_hat)\n",
    "f1 = f1_score(y_test, y_hat, zero_division=1.0)\n",
    "# a tiny bit worse. maybe the stopwords contribute to the writing style a bit\n",
    "print(tn, fp, fn, tp, accuracy, f1)"
   ],
   "metadata": {
    "collapsed": false,
    "ExecuteTime": {
     "end_time": "2023-11-02T14:51:01.533389800Z",
     "start_time": "2023-11-02T14:51:01.384316600Z"
    }
   },
   "id": "97dbf9271ef94f1f"
  },
  {
   "cell_type": "code",
   "execution_count": 25,
   "outputs": [
    {
     "name": "stdout",
     "output_type": "stream",
     "text": [
      "40 2 52 47 0.6170212765957447 0.6351351351351352\n"
     ]
    }
   ],
   "source": [
    "# try to use bag of bigrams instead of bag of words\n",
    "# encode\n",
    "vectorizer = CountVectorizer(analyzer='word', ngram_range=(2, 2))\n",
    "X_BOW = vectorizer.fit_transform(X)\n",
    "# split\n",
    "X_train, X_test, y_train, y_test = train_test_split(X_BOW, y)\n",
    "# train\n",
    "clf = MultinomialNB()\n",
    "clf.fit(X_train, y_train)\n",
    "# predict\n",
    "y_hat = clf.predict(X_test)\n",
    "# evaluate\n",
    "tn, fp, fn, tp = confusion_matrix(y_test, y_hat).ravel()\n",
    "accuracy = accuracy_score(y_test, y_hat)\n",
    "f1 = f1_score(y_test, y_hat, zero_division=1.0)\n",
    "# way worse\n",
    "print(tn, fp, fn, tp, accuracy, f1)"
   ],
   "metadata": {
    "collapsed": false,
    "ExecuteTime": {
     "end_time": "2023-11-02T14:51:01.869880200Z",
     "start_time": "2023-11-02T14:51:01.533389800Z"
    }
   },
   "id": "be1d22f775b9ba74"
  },
  {
   "cell_type": "code",
   "execution_count": 26,
   "outputs": [
    {
     "name": "stdout",
     "output_type": "stream",
     "text": [
      "39 0 102 0 0.2765957446808511 0.0\n"
     ]
    }
   ],
   "source": [
    "# try to use bag of trigrams\n",
    "# encode\n",
    "vectorizer = CountVectorizer(analyzer='word', ngram_range=(3, 3))\n",
    "X_BOW = vectorizer.fit_transform(X)\n",
    "# split\n",
    "X_train, X_test, y_train, y_test = train_test_split(X_BOW, y)\n",
    "# train\n",
    "clf = MultinomialNB()\n",
    "clf.fit(X_train, y_train)\n",
    "# predict\n",
    "y_hat = clf.predict(X_test)\n",
    "# evaluate\n",
    "tn, fp, fn, tp = confusion_matrix(y_test, y_hat).ravel()\n",
    "accuracy = accuracy_score(y_test, y_hat)\n",
    "f1 = f1_score(y_test, y_hat, zero_division=1.0)\n",
    "# waaaaaaay worse\n",
    "print(tn, fp, fn, tp, accuracy, f1)"
   ],
   "metadata": {
    "collapsed": false,
    "ExecuteTime": {
     "end_time": "2023-11-02T14:51:02.348339900Z",
     "start_time": "2023-11-02T14:51:01.864861200Z"
    }
   },
   "id": "708b0d08441b8d3e"
  }
 ],
 "metadata": {
  "kernelspec": {
   "display_name": "Python 3",
   "language": "python",
   "name": "python3"
  },
  "language_info": {
   "codemirror_mode": {
    "name": "ipython",
    "version": 2
   },
   "file_extension": ".py",
   "mimetype": "text/x-python",
   "name": "python",
   "nbconvert_exporter": "python",
   "pygments_lexer": "ipython2",
   "version": "2.7.6"
  }
 },
 "nbformat": 4,
 "nbformat_minor": 5
}
